{
 "cells": [
  {
   "cell_type": "code",
   "execution_count": 147,
   "id": "99d6c277",
   "metadata": {},
   "outputs": [],
   "source": [
    "import pandas as pd\n",
    "import numpy as np\n",
    "%matplotlib inline\n",
    "\n",
    "from statsmodels.tsa.statespace.sarimax import SARIMAX\n",
    "\n",
    "from statsmodels.graphics.tsaplots import plot_acf, plot_pacf \n",
    "from statsmodels.tsa.seasonal import seasonal_decompose                                  \n",
    "\n",
    "\n",
    "import warnings\n",
    "warnings.filterwarnings(\"ignore\")\n",
    "\n",
    "\n",
    "df = pd.read_csv('covid-data.csv')"
   ]
  },
  {
   "cell_type": "markdown",
   "id": "c4ec6e9d",
   "metadata": {},
   "source": [
    "COVID-19 - это вызывающий заболевание штамм коронавируса, появившийся в декабре 2019 года и приведший к продолжающейся глобальной пандемии. Возможность предвидеть путь пандемии имеет решающее значение. Это важно для того, чтобы определить, как бороться, и отследить его распространение."
   ]
  },
  {
   "cell_type": "code",
   "execution_count": 148,
   "id": "4ed778e1",
   "metadata": {},
   "outputs": [
    {
     "data": {
      "text/html": [
       "<div>\n",
       "<style scoped>\n",
       "    .dataframe tbody tr th:only-of-type {\n",
       "        vertical-align: middle;\n",
       "    }\n",
       "\n",
       "    .dataframe tbody tr th {\n",
       "        vertical-align: top;\n",
       "    }\n",
       "\n",
       "    .dataframe thead th {\n",
       "        text-align: right;\n",
       "    }\n",
       "</style>\n",
       "<table border=\"1\" class=\"dataframe\">\n",
       "  <thead>\n",
       "    <tr style=\"text-align: right;\">\n",
       "      <th></th>\n",
       "      <th>iso_code</th>\n",
       "      <th>continent</th>\n",
       "      <th>location</th>\n",
       "      <th>date</th>\n",
       "      <th>total_cases</th>\n",
       "      <th>new_cases</th>\n",
       "      <th>new_cases_smoothed</th>\n",
       "      <th>total_deaths</th>\n",
       "      <th>new_deaths</th>\n",
       "      <th>new_deaths_smoothed</th>\n",
       "      <th>...</th>\n",
       "      <th>female_smokers</th>\n",
       "      <th>male_smokers</th>\n",
       "      <th>handwashing_facilities</th>\n",
       "      <th>hospital_beds_per_thousand</th>\n",
       "      <th>life_expectancy</th>\n",
       "      <th>human_development_index</th>\n",
       "      <th>excess_mortality_cumulative_absolute</th>\n",
       "      <th>excess_mortality_cumulative</th>\n",
       "      <th>excess_mortality</th>\n",
       "      <th>excess_mortality_cumulative_per_million</th>\n",
       "    </tr>\n",
       "  </thead>\n",
       "  <tbody>\n",
       "    <tr>\n",
       "      <th>140741</th>\n",
       "      <td>ZWE</td>\n",
       "      <td>Africa</td>\n",
       "      <td>Zimbabwe</td>\n",
       "      <td>2021-12-10</td>\n",
       "      <td>155817.0</td>\n",
       "      <td>0.0</td>\n",
       "      <td>2625.143</td>\n",
       "      <td>4723.0</td>\n",
       "      <td>0.0</td>\n",
       "      <td>2.143</td>\n",
       "      <td>...</td>\n",
       "      <td>1.6</td>\n",
       "      <td>30.7</td>\n",
       "      <td>36.791</td>\n",
       "      <td>1.7</td>\n",
       "      <td>61.49</td>\n",
       "      <td>0.571</td>\n",
       "      <td>NaN</td>\n",
       "      <td>NaN</td>\n",
       "      <td>NaN</td>\n",
       "      <td>NaN</td>\n",
       "    </tr>\n",
       "    <tr>\n",
       "      <th>140742</th>\n",
       "      <td>ZWE</td>\n",
       "      <td>Africa</td>\n",
       "      <td>Zimbabwe</td>\n",
       "      <td>2021-12-11</td>\n",
       "      <td>165002.0</td>\n",
       "      <td>9185.0</td>\n",
       "      <td>3782.714</td>\n",
       "      <td>4735.0</td>\n",
       "      <td>12.0</td>\n",
       "      <td>3.714</td>\n",
       "      <td>...</td>\n",
       "      <td>1.6</td>\n",
       "      <td>30.7</td>\n",
       "      <td>36.791</td>\n",
       "      <td>1.7</td>\n",
       "      <td>61.49</td>\n",
       "      <td>0.571</td>\n",
       "      <td>NaN</td>\n",
       "      <td>NaN</td>\n",
       "      <td>NaN</td>\n",
       "      <td>NaN</td>\n",
       "    </tr>\n",
       "    <tr>\n",
       "      <th>140743</th>\n",
       "      <td>ZWE</td>\n",
       "      <td>Africa</td>\n",
       "      <td>Zimbabwe</td>\n",
       "      <td>2021-12-12</td>\n",
       "      <td>167140.0</td>\n",
       "      <td>2138.0</td>\n",
       "      <td>4013.429</td>\n",
       "      <td>4738.0</td>\n",
       "      <td>3.0</td>\n",
       "      <td>4.000</td>\n",
       "      <td>...</td>\n",
       "      <td>1.6</td>\n",
       "      <td>30.7</td>\n",
       "      <td>36.791</td>\n",
       "      <td>1.7</td>\n",
       "      <td>61.49</td>\n",
       "      <td>0.571</td>\n",
       "      <td>NaN</td>\n",
       "      <td>NaN</td>\n",
       "      <td>NaN</td>\n",
       "      <td>NaN</td>\n",
       "    </tr>\n",
       "    <tr>\n",
       "      <th>140744</th>\n",
       "      <td>ZWE</td>\n",
       "      <td>Africa</td>\n",
       "      <td>Zimbabwe</td>\n",
       "      <td>2021-12-13</td>\n",
       "      <td>167140.0</td>\n",
       "      <td>0.0</td>\n",
       "      <td>4013.429</td>\n",
       "      <td>4738.0</td>\n",
       "      <td>0.0</td>\n",
       "      <td>4.000</td>\n",
       "      <td>...</td>\n",
       "      <td>1.6</td>\n",
       "      <td>30.7</td>\n",
       "      <td>36.791</td>\n",
       "      <td>1.7</td>\n",
       "      <td>61.49</td>\n",
       "      <td>0.571</td>\n",
       "      <td>NaN</td>\n",
       "      <td>NaN</td>\n",
       "      <td>NaN</td>\n",
       "      <td>NaN</td>\n",
       "    </tr>\n",
       "    <tr>\n",
       "      <th>140745</th>\n",
       "      <td>ZWE</td>\n",
       "      <td>Africa</td>\n",
       "      <td>Zimbabwe</td>\n",
       "      <td>2021-12-14</td>\n",
       "      <td>172012.0</td>\n",
       "      <td>4872.0</td>\n",
       "      <td>4344.429</td>\n",
       "      <td>4740.0</td>\n",
       "      <td>2.0</td>\n",
       "      <td>3.857</td>\n",
       "      <td>...</td>\n",
       "      <td>1.6</td>\n",
       "      <td>30.7</td>\n",
       "      <td>36.791</td>\n",
       "      <td>1.7</td>\n",
       "      <td>61.49</td>\n",
       "      <td>0.571</td>\n",
       "      <td>NaN</td>\n",
       "      <td>NaN</td>\n",
       "      <td>NaN</td>\n",
       "      <td>NaN</td>\n",
       "    </tr>\n",
       "  </tbody>\n",
       "</table>\n",
       "<p>5 rows × 67 columns</p>\n",
       "</div>"
      ],
      "text/plain": [
       "       iso_code continent  location        date  total_cases  new_cases  \\\n",
       "140741      ZWE    Africa  Zimbabwe  2021-12-10     155817.0        0.0   \n",
       "140742      ZWE    Africa  Zimbabwe  2021-12-11     165002.0     9185.0   \n",
       "140743      ZWE    Africa  Zimbabwe  2021-12-12     167140.0     2138.0   \n",
       "140744      ZWE    Africa  Zimbabwe  2021-12-13     167140.0        0.0   \n",
       "140745      ZWE    Africa  Zimbabwe  2021-12-14     172012.0     4872.0   \n",
       "\n",
       "        new_cases_smoothed  total_deaths  new_deaths  new_deaths_smoothed  \\\n",
       "140741            2625.143        4723.0         0.0                2.143   \n",
       "140742            3782.714        4735.0        12.0                3.714   \n",
       "140743            4013.429        4738.0         3.0                4.000   \n",
       "140744            4013.429        4738.0         0.0                4.000   \n",
       "140745            4344.429        4740.0         2.0                3.857   \n",
       "\n",
       "        ...  female_smokers  male_smokers  handwashing_facilities  \\\n",
       "140741  ...             1.6          30.7                  36.791   \n",
       "140742  ...             1.6          30.7                  36.791   \n",
       "140743  ...             1.6          30.7                  36.791   \n",
       "140744  ...             1.6          30.7                  36.791   \n",
       "140745  ...             1.6          30.7                  36.791   \n",
       "\n",
       "        hospital_beds_per_thousand  life_expectancy  human_development_index  \\\n",
       "140741                         1.7            61.49                    0.571   \n",
       "140742                         1.7            61.49                    0.571   \n",
       "140743                         1.7            61.49                    0.571   \n",
       "140744                         1.7            61.49                    0.571   \n",
       "140745                         1.7            61.49                    0.571   \n",
       "\n",
       "        excess_mortality_cumulative_absolute  excess_mortality_cumulative  \\\n",
       "140741                                   NaN                          NaN   \n",
       "140742                                   NaN                          NaN   \n",
       "140743                                   NaN                          NaN   \n",
       "140744                                   NaN                          NaN   \n",
       "140745                                   NaN                          NaN   \n",
       "\n",
       "        excess_mortality  excess_mortality_cumulative_per_million  \n",
       "140741               NaN                                      NaN  \n",
       "140742               NaN                                      NaN  \n",
       "140743               NaN                                      NaN  \n",
       "140744               NaN                                      NaN  \n",
       "140745               NaN                                      NaN  \n",
       "\n",
       "[5 rows x 67 columns]"
      ]
     },
     "execution_count": 148,
     "metadata": {},
     "output_type": "execute_result"
    }
   ],
   "source": [
    "df.tail(5)"
   ]
  },
  {
   "cell_type": "code",
   "execution_count": 149,
   "id": "7236a5fd",
   "metadata": {},
   "outputs": [
    {
     "name": "stdout",
     "output_type": "stream",
     "text": [
      "<class 'pandas.core.frame.DataFrame'>\n",
      "RangeIndex: 140746 entries, 0 to 140745\n",
      "Data columns (total 67 columns):\n",
      " #   Column                                      Non-Null Count   Dtype  \n",
      "---  ------                                      --------------   -----  \n",
      " 0   iso_code                                    140746 non-null  object \n",
      " 1   continent                                   131843 non-null  object \n",
      " 2   location                                    140746 non-null  object \n",
      " 3   date                                        140746 non-null  object \n",
      " 4   total_cases                                 133531 non-null  float64\n",
      " 5   new_cases                                   133526 non-null  float64\n",
      " 6   new_cases_smoothed                          132476 non-null  float64\n",
      " 7   total_deaths                                121203 non-null  float64\n",
      " 8   new_deaths                                  121399 non-null  float64\n",
      " 9   new_deaths_smoothed                         132476 non-null  float64\n",
      " 10  total_cases_per_million                     132854 non-null  float64\n",
      " 11  new_cases_per_million                       132849 non-null  float64\n",
      " 12  new_cases_smoothed_per_million              131804 non-null  float64\n",
      " 13  total_deaths_per_million                    120539 non-null  float64\n",
      " 14  new_deaths_per_million                      120735 non-null  float64\n",
      " 15  new_deaths_smoothed_per_million             131804 non-null  float64\n",
      " 16  reproduction_rate                           110530 non-null  float64\n",
      " 17  icu_patients                                17133 non-null   float64\n",
      " 18  icu_patients_per_million                    17133 non-null   float64\n",
      " 19  hosp_patients                               19569 non-null   float64\n",
      " 20  hosp_patients_per_million                   19569 non-null   float64\n",
      " 21  weekly_icu_admissions                       1331 non-null    float64\n",
      " 22  weekly_icu_admissions_per_million           1331 non-null    float64\n",
      " 23  weekly_hosp_admissions                      2216 non-null    float64\n",
      " 24  weekly_hosp_admissions_per_million          2216 non-null    float64\n",
      " 25  new_tests                                   58832 non-null   float64\n",
      " 26  total_tests                                 58973 non-null   float64\n",
      " 27  total_tests_per_thousand                    58973 non-null   float64\n",
      " 28  new_tests_per_thousand                      58832 non-null   float64\n",
      " 29  new_tests_smoothed                          71572 non-null   float64\n",
      " 30  new_tests_smoothed_per_thousand             70895 non-null   float64\n",
      " 31  positive_rate                               66809 non-null   float64\n",
      " 32  tests_per_case                              66147 non-null   float64\n",
      " 33  tests_units                                 72997 non-null   object \n",
      " 34  total_vaccinations                          37022 non-null   float64\n",
      " 35  people_vaccinated                           35384 non-null   float64\n",
      " 36  people_fully_vaccinated                     32410 non-null   float64\n",
      " 37  total_boosters                              9689 non-null    float64\n",
      " 38  new_vaccinations                            30769 non-null   float64\n",
      " 39  new_vaccinations_smoothed                   66626 non-null   float64\n",
      " 40  total_vaccinations_per_hundred              37022 non-null   float64\n",
      " 41  people_vaccinated_per_hundred               35384 non-null   float64\n",
      " 42  people_fully_vaccinated_per_hundred         32410 non-null   float64\n",
      " 43  total_boosters_per_hundred                  9689 non-null    float64\n",
      " 44  new_vaccinations_smoothed_per_million       66626 non-null   float64\n",
      " 45  new_people_vaccinated_smoothed              65511 non-null   float64\n",
      " 46  new_people_vaccinated_smoothed_per_hundred  65511 non-null   float64\n",
      " 47  stringency_index                            114868 non-null  float64\n",
      " 48  population                                  139752 non-null  float64\n",
      " 49  population_density                          127470 non-null  float64\n",
      " 50  median_age                                  120696 non-null  float64\n",
      " 51  aged_65_older                               119364 non-null  float64\n",
      " 52  aged_70_older                               120038 non-null  float64\n",
      " 53  gdp_per_capita                              121506 non-null  float64\n",
      " 54  extreme_poverty                             81134 non-null   float64\n",
      " 55  cardiovasc_death_rate                       121216 non-null  float64\n",
      " 56  diabetes_prevalence                         125306 non-null  float64\n",
      " 57  female_smokers                              94131 non-null   float64\n",
      " 58  male_smokers                                92773 non-null   float64\n",
      " 59  handwashing_facilities                      60848 non-null   float64\n",
      " 60  hospital_beds_per_thousand                  109802 non-null  float64\n",
      " 61  life_expectancy                             130898 non-null  float64\n",
      " 62  human_development_index                     120992 non-null  float64\n",
      " 63  excess_mortality_cumulative_absolute        4984 non-null    float64\n",
      " 64  excess_mortality_cumulative                 4984 non-null    float64\n",
      " 65  excess_mortality                            4984 non-null    float64\n",
      " 66  excess_mortality_cumulative_per_million     4984 non-null    float64\n",
      "dtypes: float64(62), object(5)\n",
      "memory usage: 71.9+ MB\n"
     ]
    }
   ],
   "source": [
    "df.info() #смотрим сводку данных (изучаем)"
   ]
  },
  {
   "cell_type": "code",
   "execution_count": 150,
   "id": "48e80ae0",
   "metadata": {},
   "outputs": [
    {
     "data": {
      "text/html": [
       "<div>\n",
       "<style scoped>\n",
       "    .dataframe tbody tr th:only-of-type {\n",
       "        vertical-align: middle;\n",
       "    }\n",
       "\n",
       "    .dataframe tbody tr th {\n",
       "        vertical-align: top;\n",
       "    }\n",
       "\n",
       "    .dataframe thead th {\n",
       "        text-align: right;\n",
       "    }\n",
       "</style>\n",
       "<table border=\"1\" class=\"dataframe\">\n",
       "  <thead>\n",
       "    <tr style=\"text-align: right;\">\n",
       "      <th></th>\n",
       "      <th>iso_code</th>\n",
       "      <th>continent</th>\n",
       "      <th>location</th>\n",
       "      <th>date</th>\n",
       "      <th>total_cases</th>\n",
       "      <th>new_cases</th>\n",
       "      <th>new_cases_smoothed</th>\n",
       "      <th>total_deaths</th>\n",
       "      <th>new_deaths</th>\n",
       "      <th>new_deaths_smoothed</th>\n",
       "      <th>...</th>\n",
       "      <th>female_smokers</th>\n",
       "      <th>male_smokers</th>\n",
       "      <th>handwashing_facilities</th>\n",
       "      <th>hospital_beds_per_thousand</th>\n",
       "      <th>life_expectancy</th>\n",
       "      <th>human_development_index</th>\n",
       "      <th>excess_mortality_cumulative_absolute</th>\n",
       "      <th>excess_mortality_cumulative</th>\n",
       "      <th>excess_mortality</th>\n",
       "      <th>excess_mortality_cumulative_per_million</th>\n",
       "    </tr>\n",
       "  </thead>\n",
       "  <tbody>\n",
       "    <tr>\n",
       "      <th>27489</th>\n",
       "      <td>COM</td>\n",
       "      <td>Africa</td>\n",
       "      <td>Comoros</td>\n",
       "      <td>2021-03-22</td>\n",
       "      <td>3666.0</td>\n",
       "      <td>0.0</td>\n",
       "      <td>2.857</td>\n",
       "      <td>146.0</td>\n",
       "      <td>0.0</td>\n",
       "      <td>0.000</td>\n",
       "      <td>...</td>\n",
       "      <td>4.4</td>\n",
       "      <td>23.6</td>\n",
       "      <td>15.574</td>\n",
       "      <td>2.200</td>\n",
       "      <td>64.32</td>\n",
       "      <td>0.554</td>\n",
       "      <td>NaN</td>\n",
       "      <td>NaN</td>\n",
       "      <td>NaN</td>\n",
       "      <td>NaN</td>\n",
       "    </tr>\n",
       "    <tr>\n",
       "      <th>23312</th>\n",
       "      <td>CPV</td>\n",
       "      <td>Africa</td>\n",
       "      <td>Cape Verde</td>\n",
       "      <td>2021-05-07</td>\n",
       "      <td>25837.0</td>\n",
       "      <td>311.0</td>\n",
       "      <td>279.286</td>\n",
       "      <td>231.0</td>\n",
       "      <td>1.0</td>\n",
       "      <td>2.000</td>\n",
       "      <td>...</td>\n",
       "      <td>2.1</td>\n",
       "      <td>16.5</td>\n",
       "      <td>NaN</td>\n",
       "      <td>2.100</td>\n",
       "      <td>72.98</td>\n",
       "      <td>0.665</td>\n",
       "      <td>NaN</td>\n",
       "      <td>NaN</td>\n",
       "      <td>NaN</td>\n",
       "      <td>NaN</td>\n",
       "    </tr>\n",
       "    <tr>\n",
       "      <th>71595</th>\n",
       "      <td>LSO</td>\n",
       "      <td>Africa</td>\n",
       "      <td>Lesotho</td>\n",
       "      <td>2020-12-05</td>\n",
       "      <td>2150.0</td>\n",
       "      <td>0.0</td>\n",
       "      <td>5.857</td>\n",
       "      <td>44.0</td>\n",
       "      <td>0.0</td>\n",
       "      <td>0.000</td>\n",
       "      <td>...</td>\n",
       "      <td>0.4</td>\n",
       "      <td>53.9</td>\n",
       "      <td>2.117</td>\n",
       "      <td>NaN</td>\n",
       "      <td>54.33</td>\n",
       "      <td>0.527</td>\n",
       "      <td>NaN</td>\n",
       "      <td>NaN</td>\n",
       "      <td>NaN</td>\n",
       "      <td>NaN</td>\n",
       "    </tr>\n",
       "    <tr>\n",
       "      <th>73663</th>\n",
       "      <td>LIE</td>\n",
       "      <td>Europe</td>\n",
       "      <td>Liechtenstein</td>\n",
       "      <td>2021-04-12</td>\n",
       "      <td>2842.0</td>\n",
       "      <td>7.0</td>\n",
       "      <td>9.000</td>\n",
       "      <td>56.0</td>\n",
       "      <td>0.0</td>\n",
       "      <td>0.000</td>\n",
       "      <td>...</td>\n",
       "      <td>NaN</td>\n",
       "      <td>NaN</td>\n",
       "      <td>NaN</td>\n",
       "      <td>2.397</td>\n",
       "      <td>82.49</td>\n",
       "      <td>0.919</td>\n",
       "      <td>NaN</td>\n",
       "      <td>NaN</td>\n",
       "      <td>NaN</td>\n",
       "      <td>NaN</td>\n",
       "    </tr>\n",
       "    <tr>\n",
       "      <th>100605</th>\n",
       "      <td>PER</td>\n",
       "      <td>South America</td>\n",
       "      <td>Peru</td>\n",
       "      <td>2020-07-19</td>\n",
       "      <td>353590.0</td>\n",
       "      <td>4090.0</td>\n",
       "      <td>3894.857</td>\n",
       "      <td>49429.0</td>\n",
       "      <td>784.0</td>\n",
       "      <td>700.143</td>\n",
       "      <td>...</td>\n",
       "      <td>4.8</td>\n",
       "      <td>NaN</td>\n",
       "      <td>NaN</td>\n",
       "      <td>1.600</td>\n",
       "      <td>76.74</td>\n",
       "      <td>0.777</td>\n",
       "      <td>57474.5</td>\n",
       "      <td>84.79</td>\n",
       "      <td>184.16</td>\n",
       "      <td>1722.886927</td>\n",
       "    </tr>\n",
       "  </tbody>\n",
       "</table>\n",
       "<p>5 rows × 67 columns</p>\n",
       "</div>"
      ],
      "text/plain": [
       "       iso_code      continent       location        date  total_cases  \\\n",
       "27489       COM         Africa        Comoros  2021-03-22       3666.0   \n",
       "23312       CPV         Africa     Cape Verde  2021-05-07      25837.0   \n",
       "71595       LSO         Africa        Lesotho  2020-12-05       2150.0   \n",
       "73663       LIE         Europe  Liechtenstein  2021-04-12       2842.0   \n",
       "100605      PER  South America           Peru  2020-07-19     353590.0   \n",
       "\n",
       "        new_cases  new_cases_smoothed  total_deaths  new_deaths  \\\n",
       "27489         0.0               2.857         146.0         0.0   \n",
       "23312       311.0             279.286         231.0         1.0   \n",
       "71595         0.0               5.857          44.0         0.0   \n",
       "73663         7.0               9.000          56.0         0.0   \n",
       "100605     4090.0            3894.857       49429.0       784.0   \n",
       "\n",
       "        new_deaths_smoothed  ...  female_smokers  male_smokers  \\\n",
       "27489                 0.000  ...             4.4          23.6   \n",
       "23312                 2.000  ...             2.1          16.5   \n",
       "71595                 0.000  ...             0.4          53.9   \n",
       "73663                 0.000  ...             NaN           NaN   \n",
       "100605              700.143  ...             4.8           NaN   \n",
       "\n",
       "        handwashing_facilities  hospital_beds_per_thousand  life_expectancy  \\\n",
       "27489                   15.574                       2.200            64.32   \n",
       "23312                      NaN                       2.100            72.98   \n",
       "71595                    2.117                         NaN            54.33   \n",
       "73663                      NaN                       2.397            82.49   \n",
       "100605                     NaN                       1.600            76.74   \n",
       "\n",
       "        human_development_index  excess_mortality_cumulative_absolute  \\\n",
       "27489                     0.554                                   NaN   \n",
       "23312                     0.665                                   NaN   \n",
       "71595                     0.527                                   NaN   \n",
       "73663                     0.919                                   NaN   \n",
       "100605                    0.777                               57474.5   \n",
       "\n",
       "        excess_mortality_cumulative  excess_mortality  \\\n",
       "27489                           NaN               NaN   \n",
       "23312                           NaN               NaN   \n",
       "71595                           NaN               NaN   \n",
       "73663                           NaN               NaN   \n",
       "100605                        84.79            184.16   \n",
       "\n",
       "        excess_mortality_cumulative_per_million  \n",
       "27489                                       NaN  \n",
       "23312                                       NaN  \n",
       "71595                                       NaN  \n",
       "73663                                       NaN  \n",
       "100605                              1722.886927  \n",
       "\n",
       "[5 rows x 67 columns]"
      ]
     },
     "execution_count": 150,
     "metadata": {},
     "output_type": "execute_result"
    }
   ],
   "source": [
    "df.sample(5) #смотрим случайные 5 строк для понимания общей таблицы."
   ]
  },
  {
   "cell_type": "code",
   "execution_count": 151,
   "id": "ff86fb41",
   "metadata": {},
   "outputs": [
    {
     "data": {
      "text/plain": [
       "(140746, 67)"
      ]
     },
     "execution_count": 151,
     "metadata": {},
     "output_type": "execute_result"
    }
   ],
   "source": [
    "df.shape #выясняем кол-во строк и столбцов."
   ]
  },
  {
   "cell_type": "code",
   "execution_count": 152,
   "id": "20d880e9",
   "metadata": {},
   "outputs": [
    {
     "data": {
      "text/plain": [
       "Index(['iso_code', 'continent', 'location', 'date', 'total_cases', 'new_cases',\n",
       "       'new_cases_smoothed', 'total_deaths', 'new_deaths',\n",
       "       'new_deaths_smoothed', 'total_cases_per_million',\n",
       "       'new_cases_per_million', 'new_cases_smoothed_per_million',\n",
       "       'total_deaths_per_million', 'new_deaths_per_million',\n",
       "       'new_deaths_smoothed_per_million', 'reproduction_rate', 'icu_patients',\n",
       "       'icu_patients_per_million', 'hosp_patients',\n",
       "       'hosp_patients_per_million', 'weekly_icu_admissions',\n",
       "       'weekly_icu_admissions_per_million', 'weekly_hosp_admissions',\n",
       "       'weekly_hosp_admissions_per_million', 'new_tests', 'total_tests',\n",
       "       'total_tests_per_thousand', 'new_tests_per_thousand',\n",
       "       'new_tests_smoothed', 'new_tests_smoothed_per_thousand',\n",
       "       'positive_rate', 'tests_per_case', 'tests_units', 'total_vaccinations',\n",
       "       'people_vaccinated', 'people_fully_vaccinated', 'total_boosters',\n",
       "       'new_vaccinations', 'new_vaccinations_smoothed',\n",
       "       'total_vaccinations_per_hundred', 'people_vaccinated_per_hundred',\n",
       "       'people_fully_vaccinated_per_hundred', 'total_boosters_per_hundred',\n",
       "       'new_vaccinations_smoothed_per_million',\n",
       "       'new_people_vaccinated_smoothed',\n",
       "       'new_people_vaccinated_smoothed_per_hundred', 'stringency_index',\n",
       "       'population', 'population_density', 'median_age', 'aged_65_older',\n",
       "       'aged_70_older', 'gdp_per_capita', 'extreme_poverty',\n",
       "       'cardiovasc_death_rate', 'diabetes_prevalence', 'female_smokers',\n",
       "       'male_smokers', 'handwashing_facilities', 'hospital_beds_per_thousand',\n",
       "       'life_expectancy', 'human_development_index',\n",
       "       'excess_mortality_cumulative_absolute', 'excess_mortality_cumulative',\n",
       "       'excess_mortality', 'excess_mortality_cumulative_per_million'],\n",
       "      dtype='object')"
      ]
     },
     "execution_count": 152,
     "metadata": {},
     "output_type": "execute_result"
    }
   ],
   "source": [
    "df.columns #выясняем названия всех столбцов."
   ]
  },
  {
   "cell_type": "code",
   "execution_count": 153,
   "id": "17e9ae2f",
   "metadata": {},
   "outputs": [
    {
     "data": {
      "text/plain": [
       "array(['Afghanistan', 'Africa', 'Albania', 'Algeria', 'Andorra', 'Angola',\n",
       "       'Anguilla', 'Antigua and Barbuda', 'Argentina', 'Armenia', 'Aruba',\n",
       "       'Asia', 'Australia', 'Austria', 'Azerbaijan', 'Bahamas', 'Bahrain',\n",
       "       'Bangladesh', 'Barbados', 'Belarus', 'Belgium', 'Belize', 'Benin',\n",
       "       'Bermuda', 'Bhutan', 'Bolivia', 'Bonaire Sint Eustatius and Saba',\n",
       "       'Bosnia and Herzegovina', 'Botswana', 'Brazil',\n",
       "       'British Virgin Islands', 'Brunei', 'Bulgaria', 'Burkina Faso',\n",
       "       'Burundi', 'Cambodia', 'Cameroon', 'Canada', 'Cape Verde',\n",
       "       'Cayman Islands', 'Central African Republic', 'Chad', 'Chile',\n",
       "       'China', 'Colombia', 'Comoros', 'Congo', 'Cook Islands',\n",
       "       'Costa Rica', \"Cote d'Ivoire\", 'Croatia', 'Cuba', 'Curacao',\n",
       "       'Cyprus', 'Czechia', 'Democratic Republic of Congo', 'Denmark',\n",
       "       'Djibouti', 'Dominica', 'Dominican Republic', 'Ecuador', 'Egypt',\n",
       "       'El Salvador', 'Equatorial Guinea', 'Eritrea', 'Estonia',\n",
       "       'Eswatini', 'Ethiopia', 'Europe', 'European Union',\n",
       "       'Faeroe Islands', 'Falkland Islands', 'Fiji', 'Finland', 'France',\n",
       "       'French Polynesia', 'Gabon', 'Gambia', 'Georgia', 'Germany',\n",
       "       'Ghana', 'Gibraltar', 'Greece', 'Greenland', 'Grenada',\n",
       "       'Guatemala', 'Guernsey', 'Guinea', 'Guinea-Bissau', 'Guyana',\n",
       "       'Haiti', 'High income', 'Honduras', 'Hong Kong', 'Hungary',\n",
       "       'Iceland', 'India', 'Indonesia', 'International', 'Iran', 'Iraq',\n",
       "       'Ireland', 'Isle of Man', 'Israel', 'Italy', 'Jamaica', 'Japan',\n",
       "       'Jersey', 'Jordan', 'Kazakhstan', 'Kenya', 'Kiribati', 'Kosovo',\n",
       "       'Kuwait', 'Kyrgyzstan', 'Laos', 'Latvia', 'Lebanon', 'Lesotho',\n",
       "       'Liberia', 'Libya', 'Liechtenstein', 'Lithuania', 'Low income',\n",
       "       'Lower middle income', 'Luxembourg', 'Macao', 'Madagascar',\n",
       "       'Malawi', 'Malaysia', 'Maldives', 'Mali', 'Malta',\n",
       "       'Marshall Islands', 'Mauritania', 'Mauritius', 'Mexico',\n",
       "       'Micronesia (country)', 'Moldova', 'Monaco', 'Mongolia',\n",
       "       'Montenegro', 'Montserrat', 'Morocco', 'Mozambique', 'Myanmar',\n",
       "       'Namibia', 'Nauru', 'Nepal', 'Netherlands', 'New Caledonia',\n",
       "       'New Zealand', 'Nicaragua', 'Niger', 'Nigeria', 'Niue',\n",
       "       'North America', 'North Macedonia', 'Northern Cyprus', 'Norway',\n",
       "       'Oceania', 'Oman', 'Pakistan', 'Palau', 'Palestine', 'Panama',\n",
       "       'Papua New Guinea', 'Paraguay', 'Peru', 'Philippines', 'Pitcairn',\n",
       "       'Poland', 'Portugal', 'Qatar', 'Romania', 'Russia', 'Rwanda',\n",
       "       'Saint Helena', 'Saint Kitts and Nevis', 'Saint Lucia',\n",
       "       'Saint Vincent and the Grenadines', 'Samoa', 'San Marino',\n",
       "       'Sao Tome and Principe', 'Saudi Arabia', 'Senegal', 'Serbia',\n",
       "       'Seychelles', 'Sierra Leone', 'Singapore',\n",
       "       'Sint Maarten (Dutch part)', 'Slovakia', 'Slovenia',\n",
       "       'Solomon Islands', 'Somalia', 'South Africa', 'South America',\n",
       "       'South Korea', 'South Sudan', 'Spain', 'Sri Lanka', 'Sudan',\n",
       "       'Suriname', 'Sweden', 'Switzerland', 'Syria', 'Taiwan',\n",
       "       'Tajikistan', 'Tanzania', 'Thailand', 'Timor', 'Togo', 'Tokelau',\n",
       "       'Tonga', 'Trinidad and Tobago', 'Tunisia', 'Turkey',\n",
       "       'Turkmenistan', 'Turks and Caicos Islands', 'Tuvalu', 'Uganda',\n",
       "       'Ukraine', 'United Arab Emirates', 'United Kingdom',\n",
       "       'United States', 'Upper middle income', 'Uruguay', 'Uzbekistan',\n",
       "       'Vanuatu', 'Vatican', 'Venezuela', 'Vietnam', 'Wallis and Futuna',\n",
       "       'World', 'Yemen', 'Zambia', 'Zimbabwe'], dtype=object)"
      ]
     },
     "execution_count": 153,
     "metadata": {},
     "output_type": "execute_result"
    }
   ],
   "source": [
    "uniqs = df.location.unique() #выводим уникальные значения по локации, чтобы выбрать страну для анализа.\n",
    "uniqs"
   ]
  },
  {
   "cell_type": "code",
   "execution_count": 154,
   "id": "377bd144",
   "metadata": {},
   "outputs": [
    {
     "data": {
      "text/html": [
       "<div>\n",
       "<style scoped>\n",
       "    .dataframe tbody tr th:only-of-type {\n",
       "        vertical-align: middle;\n",
       "    }\n",
       "\n",
       "    .dataframe tbody tr th {\n",
       "        vertical-align: top;\n",
       "    }\n",
       "\n",
       "    .dataframe thead th {\n",
       "        text-align: right;\n",
       "    }\n",
       "</style>\n",
       "<table border=\"1\" class=\"dataframe\">\n",
       "  <thead>\n",
       "    <tr style=\"text-align: right;\">\n",
       "      <th></th>\n",
       "      <th>location</th>\n",
       "      <th>date</th>\n",
       "      <th>new_cases</th>\n",
       "      <th>total_cases</th>\n",
       "      <th>new_deaths</th>\n",
       "      <th>total_deaths</th>\n",
       "      <th>new_vaccinations</th>\n",
       "      <th>total_vaccinations</th>\n",
       "    </tr>\n",
       "  </thead>\n",
       "  <tbody>\n",
       "    <tr>\n",
       "      <th>95535</th>\n",
       "      <td>Norway</td>\n",
       "      <td>2021-07-01</td>\n",
       "      <td>193.0</td>\n",
       "      <td>131509.0</td>\n",
       "      <td>0.0</td>\n",
       "      <td>794.0</td>\n",
       "      <td>110931.0</td>\n",
       "      <td>4359132.0</td>\n",
       "    </tr>\n",
       "    <tr>\n",
       "      <th>95536</th>\n",
       "      <td>Norway</td>\n",
       "      <td>2021-07-02</td>\n",
       "      <td>240.0</td>\n",
       "      <td>131749.0</td>\n",
       "      <td>0.0</td>\n",
       "      <td>794.0</td>\n",
       "      <td>54646.0</td>\n",
       "      <td>4413778.0</td>\n",
       "    </tr>\n",
       "    <tr>\n",
       "      <th>95537</th>\n",
       "      <td>Norway</td>\n",
       "      <td>2021-07-03</td>\n",
       "      <td>112.0</td>\n",
       "      <td>131861.0</td>\n",
       "      <td>0.0</td>\n",
       "      <td>794.0</td>\n",
       "      <td>9897.0</td>\n",
       "      <td>4423675.0</td>\n",
       "    </tr>\n",
       "    <tr>\n",
       "      <th>95538</th>\n",
       "      <td>Norway</td>\n",
       "      <td>2021-07-04</td>\n",
       "      <td>88.0</td>\n",
       "      <td>131949.0</td>\n",
       "      <td>0.0</td>\n",
       "      <td>794.0</td>\n",
       "      <td>6590.0</td>\n",
       "      <td>4430265.0</td>\n",
       "    </tr>\n",
       "    <tr>\n",
       "      <th>95539</th>\n",
       "      <td>Norway</td>\n",
       "      <td>2021-07-05</td>\n",
       "      <td>187.0</td>\n",
       "      <td>132136.0</td>\n",
       "      <td>0.0</td>\n",
       "      <td>794.0</td>\n",
       "      <td>27576.0</td>\n",
       "      <td>4457841.0</td>\n",
       "    </tr>\n",
       "    <tr>\n",
       "      <th>...</th>\n",
       "      <td>...</td>\n",
       "      <td>...</td>\n",
       "      <td>...</td>\n",
       "      <td>...</td>\n",
       "      <td>...</td>\n",
       "      <td>...</td>\n",
       "      <td>...</td>\n",
       "      <td>...</td>\n",
       "    </tr>\n",
       "    <tr>\n",
       "      <th>95683</th>\n",
       "      <td>Norway</td>\n",
       "      <td>2021-11-26</td>\n",
       "      <td>2942.0</td>\n",
       "      <td>257309.0</td>\n",
       "      <td>0.0</td>\n",
       "      <td>1050.0</td>\n",
       "      <td>28932.0</td>\n",
       "      <td>8610574.0</td>\n",
       "    </tr>\n",
       "    <tr>\n",
       "      <th>95684</th>\n",
       "      <td>Norway</td>\n",
       "      <td>2021-11-27</td>\n",
       "      <td>1891.0</td>\n",
       "      <td>259200.0</td>\n",
       "      <td>0.0</td>\n",
       "      <td>1050.0</td>\n",
       "      <td>3694.0</td>\n",
       "      <td>8614268.0</td>\n",
       "    </tr>\n",
       "    <tr>\n",
       "      <th>95685</th>\n",
       "      <td>Norway</td>\n",
       "      <td>2021-11-28</td>\n",
       "      <td>1721.0</td>\n",
       "      <td>260921.0</td>\n",
       "      <td>0.0</td>\n",
       "      <td>1050.0</td>\n",
       "      <td>938.0</td>\n",
       "      <td>8615206.0</td>\n",
       "    </tr>\n",
       "    <tr>\n",
       "      <th>95686</th>\n",
       "      <td>Norway</td>\n",
       "      <td>2021-11-29</td>\n",
       "      <td>2877.0</td>\n",
       "      <td>263798.0</td>\n",
       "      <td>0.0</td>\n",
       "      <td>1050.0</td>\n",
       "      <td>27369.0</td>\n",
       "      <td>8642575.0</td>\n",
       "    </tr>\n",
       "    <tr>\n",
       "      <th>95687</th>\n",
       "      <td>Norway</td>\n",
       "      <td>2021-11-30</td>\n",
       "      <td>4045.0</td>\n",
       "      <td>267843.0</td>\n",
       "      <td>4.0</td>\n",
       "      <td>1054.0</td>\n",
       "      <td>40032.0</td>\n",
       "      <td>8682607.0</td>\n",
       "    </tr>\n",
       "  </tbody>\n",
       "</table>\n",
       "<p>153 rows × 8 columns</p>\n",
       "</div>"
      ],
      "text/plain": [
       "      location        date  new_cases  total_cases  new_deaths  total_deaths  \\\n",
       "95535   Norway  2021-07-01      193.0     131509.0         0.0         794.0   \n",
       "95536   Norway  2021-07-02      240.0     131749.0         0.0         794.0   \n",
       "95537   Norway  2021-07-03      112.0     131861.0         0.0         794.0   \n",
       "95538   Norway  2021-07-04       88.0     131949.0         0.0         794.0   \n",
       "95539   Norway  2021-07-05      187.0     132136.0         0.0         794.0   \n",
       "...        ...         ...        ...          ...         ...           ...   \n",
       "95683   Norway  2021-11-26     2942.0     257309.0         0.0        1050.0   \n",
       "95684   Norway  2021-11-27     1891.0     259200.0         0.0        1050.0   \n",
       "95685   Norway  2021-11-28     1721.0     260921.0         0.0        1050.0   \n",
       "95686   Norway  2021-11-29     2877.0     263798.0         0.0        1050.0   \n",
       "95687   Norway  2021-11-30     4045.0     267843.0         4.0        1054.0   \n",
       "\n",
       "       new_vaccinations  total_vaccinations  \n",
       "95535          110931.0           4359132.0  \n",
       "95536           54646.0           4413778.0  \n",
       "95537            9897.0           4423675.0  \n",
       "95538            6590.0           4430265.0  \n",
       "95539           27576.0           4457841.0  \n",
       "...                 ...                 ...  \n",
       "95683           28932.0           8610574.0  \n",
       "95684            3694.0           8614268.0  \n",
       "95685             938.0           8615206.0  \n",
       "95686           27369.0           8642575.0  \n",
       "95687           40032.0           8682607.0  \n",
       "\n",
       "[153 rows x 8 columns]"
      ]
     },
     "execution_count": 154,
     "metadata": {},
     "output_type": "execute_result"
    }
   ],
   "source": [
    "df1 = df[['location', 'date', 'new_cases', 'total_cases','new_deaths','total_deaths', 'new_vaccinations', 'total_vaccinations']] # оставляем только нужную страну и кол-во случаев заболевания для дальнейшего анализа.\n",
    "df1=df1[(df1['date'] > '2021-06-30') & (df1['date'] < '2021-12-01')] # берем период с 1.07 до ноября\n",
    "df1=df1[df1['location'] == 'Norway']\n",
    "df1\n"
   ]
  },
  {
   "cell_type": "code",
   "execution_count": 155,
   "id": "34201199",
   "metadata": {},
   "outputs": [
    {
     "data": {
      "text/plain": [
       "<AxesSubplot:>"
      ]
     },
     "execution_count": 155,
     "metadata": {},
     "output_type": "execute_result"
    },
    {
     "data": {
      "image/png": "[encoded data removed]",
      "text/plain": [
       "<Figure size 432x288 with 1 Axes>"
      ]
     },
     "metadata": {
      "needs_background": "light"
     },
     "output_type": "display_data"
    }
   ],
   "source": [
    "df1.total_cases.plot() #для анализа выбрана Норвегия. Смотрим динамику за все время."
   ]
  },
  {
   "cell_type": "code",
   "execution_count": 156,
   "id": "cb3ad2f2",
   "metadata": {},
   "outputs": [
    {
     "data": {
      "text/plain": [
       "location               object\n",
       "date                   object\n",
       "new_cases             float64\n",
       "total_cases           float64\n",
       "new_deaths            float64\n",
       "total_deaths          float64\n",
       "new_vaccinations      float64\n",
       "total_vaccinations    float64\n",
       "dtype: object"
      ]
     },
     "execution_count": 156,
     "metadata": {},
     "output_type": "execute_result"
    }
   ],
   "source": [
    "df1.dtypes #проверяем правильно ли интерпретированы данные"
   ]
  },
  {
   "cell_type": "markdown",
   "id": "31771a42",
   "metadata": {},
   "source": [
    "# Обработка пропусков"
   ]
  },
  {
   "cell_type": "code",
   "execution_count": 157,
   "id": "0db16e7c",
   "metadata": {},
   "outputs": [
    {
     "data": {
      "text/plain": [
       "location              0\n",
       "date                  0\n",
       "new_cases             0\n",
       "total_cases           0\n",
       "new_deaths            0\n",
       "total_deaths          0\n",
       "new_vaccinations      0\n",
       "total_vaccinations    0\n",
       "dtype: int64"
      ]
     },
     "execution_count": 157,
     "metadata": {},
     "output_type": "execute_result"
    }
   ],
   "source": [
    "df1.isnull().sum()"
   ]
  },
  {
   "cell_type": "markdown",
   "id": "54efe720",
   "metadata": {},
   "source": [
    "Пропусков нет"
   ]
  },
  {
   "cell_type": "markdown",
   "id": "d36e6399",
   "metadata": {},
   "source": [
    "# EDA или разведочный анализ данных."
   ]
  },
  {
   "cell_type": "markdown",
   "id": "41321c4e",
   "metadata": {},
   "source": [
    "Исходя из результатов, полученных на предыдущем этапе, определяем ключевым столбцом (index) дату стат. показателей в Df, т.к. далее будем работать с временными рядами, в т.ч. меняем тип данных (time) в указанном столбце на подходящий нам для дальнейшей работы"
   ]
  },
  {
   "cell_type": "code",
   "execution_count": 158,
   "id": "24575892",
   "metadata": {},
   "outputs": [
    {
     "name": "stdout",
     "output_type": "stream",
     "text": [
      "<class 'pandas.core.frame.DataFrame'>\n",
      "DatetimeIndex: 153 entries, 2021-07-01 to 2021-11-30\n",
      "Data columns (total 8 columns):\n",
      " #   Column              Non-Null Count  Dtype         \n",
      "---  ------              --------------  -----         \n",
      " 0   location            153 non-null    object        \n",
      " 1   date                153 non-null    datetime64[ns]\n",
      " 2   new_cases           153 non-null    float64       \n",
      " 3   total_cases         153 non-null    float64       \n",
      " 4   new_deaths          153 non-null    float64       \n",
      " 5   total_deaths        153 non-null    float64       \n",
      " 6   new_vaccinations    153 non-null    float64       \n",
      " 7   total_vaccinations  153 non-null    float64       \n",
      "dtypes: datetime64[ns](1), float64(6), object(1)\n",
      "memory usage: 10.8+ KB\n"
     ]
    },
    {
     "data": {
      "text/html": [
       "<div>\n",
       "<style scoped>\n",
       "    .dataframe tbody tr th:only-of-type {\n",
       "        vertical-align: middle;\n",
       "    }\n",
       "\n",
       "    .dataframe tbody tr th {\n",
       "        vertical-align: top;\n",
       "    }\n",
       "\n",
       "    .dataframe thead th {\n",
       "        text-align: right;\n",
       "    }\n",
       "</style>\n",
       "<table border=\"1\" class=\"dataframe\">\n",
       "  <thead>\n",
       "    <tr style=\"text-align: right;\">\n",
       "      <th></th>\n",
       "      <th>location</th>\n",
       "      <th>date</th>\n",
       "      <th>new_cases</th>\n",
       "      <th>total_cases</th>\n",
       "      <th>new_deaths</th>\n",
       "      <th>total_deaths</th>\n",
       "      <th>new_vaccinations</th>\n",
       "      <th>total_vaccinations</th>\n",
       "    </tr>\n",
       "    <tr>\n",
       "      <th>date</th>\n",
       "      <th></th>\n",
       "      <th></th>\n",
       "      <th></th>\n",
       "      <th></th>\n",
       "      <th></th>\n",
       "      <th></th>\n",
       "      <th></th>\n",
       "      <th></th>\n",
       "    </tr>\n",
       "  </thead>\n",
       "  <tbody>\n",
       "    <tr>\n",
       "      <th>2021-07-01</th>\n",
       "      <td>Norway</td>\n",
       "      <td>2021-07-01</td>\n",
       "      <td>193.0</td>\n",
       "      <td>131509.0</td>\n",
       "      <td>0.0</td>\n",
       "      <td>794.0</td>\n",
       "      <td>110931.0</td>\n",
       "      <td>4359132.0</td>\n",
       "    </tr>\n",
       "    <tr>\n",
       "      <th>2021-07-02</th>\n",
       "      <td>Norway</td>\n",
       "      <td>2021-07-02</td>\n",
       "      <td>240.0</td>\n",
       "      <td>131749.0</td>\n",
       "      <td>0.0</td>\n",
       "      <td>794.0</td>\n",
       "      <td>54646.0</td>\n",
       "      <td>4413778.0</td>\n",
       "    </tr>\n",
       "    <tr>\n",
       "      <th>2021-07-03</th>\n",
       "      <td>Norway</td>\n",
       "      <td>2021-07-03</td>\n",
       "      <td>112.0</td>\n",
       "      <td>131861.0</td>\n",
       "      <td>0.0</td>\n",
       "      <td>794.0</td>\n",
       "      <td>9897.0</td>\n",
       "      <td>4423675.0</td>\n",
       "    </tr>\n",
       "    <tr>\n",
       "      <th>2021-07-04</th>\n",
       "      <td>Norway</td>\n",
       "      <td>2021-07-04</td>\n",
       "      <td>88.0</td>\n",
       "      <td>131949.0</td>\n",
       "      <td>0.0</td>\n",
       "      <td>794.0</td>\n",
       "      <td>6590.0</td>\n",
       "      <td>4430265.0</td>\n",
       "    </tr>\n",
       "    <tr>\n",
       "      <th>2021-07-05</th>\n",
       "      <td>Norway</td>\n",
       "      <td>2021-07-05</td>\n",
       "      <td>187.0</td>\n",
       "      <td>132136.0</td>\n",
       "      <td>0.0</td>\n",
       "      <td>794.0</td>\n",
       "      <td>27576.0</td>\n",
       "      <td>4457841.0</td>\n",
       "    </tr>\n",
       "    <tr>\n",
       "      <th>...</th>\n",
       "      <td>...</td>\n",
       "      <td>...</td>\n",
       "      <td>...</td>\n",
       "      <td>...</td>\n",
       "      <td>...</td>\n",
       "      <td>...</td>\n",
       "      <td>...</td>\n",
       "      <td>...</td>\n",
       "    </tr>\n",
       "    <tr>\n",
       "      <th>2021-11-26</th>\n",
       "      <td>Norway</td>\n",
       "      <td>2021-11-26</td>\n",
       "      <td>2942.0</td>\n",
       "      <td>257309.0</td>\n",
       "      <td>0.0</td>\n",
       "      <td>1050.0</td>\n",
       "      <td>28932.0</td>\n",
       "      <td>8610574.0</td>\n",
       "    </tr>\n",
       "    <tr>\n",
       "      <th>2021-11-27</th>\n",
       "      <td>Norway</td>\n",
       "      <td>2021-11-27</td>\n",
       "      <td>1891.0</td>\n",
       "      <td>259200.0</td>\n",
       "      <td>0.0</td>\n",
       "      <td>1050.0</td>\n",
       "      <td>3694.0</td>\n",
       "      <td>8614268.0</td>\n",
       "    </tr>\n",
       "    <tr>\n",
       "      <th>2021-11-28</th>\n",
       "      <td>Norway</td>\n",
       "      <td>2021-11-28</td>\n",
       "      <td>1721.0</td>\n",
       "      <td>260921.0</td>\n",
       "      <td>0.0</td>\n",
       "      <td>1050.0</td>\n",
       "      <td>938.0</td>\n",
       "      <td>8615206.0</td>\n",
       "    </tr>\n",
       "    <tr>\n",
       "      <th>2021-11-29</th>\n",
       "      <td>Norway</td>\n",
       "      <td>2021-11-29</td>\n",
       "      <td>2877.0</td>\n",
       "      <td>263798.0</td>\n",
       "      <td>0.0</td>\n",
       "      <td>1050.0</td>\n",
       "      <td>27369.0</td>\n",
       "      <td>8642575.0</td>\n",
       "    </tr>\n",
       "    <tr>\n",
       "      <th>2021-11-30</th>\n",
       "      <td>Norway</td>\n",
       "      <td>2021-11-30</td>\n",
       "      <td>4045.0</td>\n",
       "      <td>267843.0</td>\n",
       "      <td>4.0</td>\n",
       "      <td>1054.0</td>\n",
       "      <td>40032.0</td>\n",
       "      <td>8682607.0</td>\n",
       "    </tr>\n",
       "  </tbody>\n",
       "</table>\n",
       "<p>153 rows × 8 columns</p>\n",
       "</div>"
      ],
      "text/plain": [
       "           location       date  new_cases  total_cases  new_deaths  \\\n",
       "date                                                                 \n",
       "2021-07-01   Norway 2021-07-01      193.0     131509.0         0.0   \n",
       "2021-07-02   Norway 2021-07-02      240.0     131749.0         0.0   \n",
       "2021-07-03   Norway 2021-07-03      112.0     131861.0         0.0   \n",
       "2021-07-04   Norway 2021-07-04       88.0     131949.0         0.0   \n",
       "2021-07-05   Norway 2021-07-05      187.0     132136.0         0.0   \n",
       "...             ...        ...        ...          ...         ...   \n",
       "2021-11-26   Norway 2021-11-26     2942.0     257309.0         0.0   \n",
       "2021-11-27   Norway 2021-11-27     1891.0     259200.0         0.0   \n",
       "2021-11-28   Norway 2021-11-28     1721.0     260921.0         0.0   \n",
       "2021-11-29   Norway 2021-11-29     2877.0     263798.0         0.0   \n",
       "2021-11-30   Norway 2021-11-30     4045.0     267843.0         4.0   \n",
       "\n",
       "            total_deaths  new_vaccinations  total_vaccinations  \n",
       "date                                                            \n",
       "2021-07-01         794.0          110931.0           4359132.0  \n",
       "2021-07-02         794.0           54646.0           4413778.0  \n",
       "2021-07-03         794.0            9897.0           4423675.0  \n",
       "2021-07-04         794.0            6590.0           4430265.0  \n",
       "2021-07-05         794.0           27576.0           4457841.0  \n",
       "...                  ...               ...                 ...  \n",
       "2021-11-26        1050.0           28932.0           8610574.0  \n",
       "2021-11-27        1050.0            3694.0           8614268.0  \n",
       "2021-11-28        1050.0             938.0           8615206.0  \n",
       "2021-11-29        1050.0           27369.0           8642575.0  \n",
       "2021-11-30        1054.0           40032.0           8682607.0  \n",
       "\n",
       "[153 rows x 8 columns]"
      ]
     },
     "execution_count": 158,
     "metadata": {},
     "output_type": "execute_result"
    }
   ],
   "source": [
    "df1['date']=df1['date'].astype('datetime64')\n",
    "df1.index=df1.date\n",
    "df1.info()\n",
    "df1"
   ]
  },
  {
   "cell_type": "code",
   "execution_count": 159,
   "id": "03a6d896",
   "metadata": {},
   "outputs": [
    {
     "data": {
      "text/html": [
       "<div>\n",
       "<style scoped>\n",
       "    .dataframe tbody tr th:only-of-type {\n",
       "        vertical-align: middle;\n",
       "    }\n",
       "\n",
       "    .dataframe tbody tr th {\n",
       "        vertical-align: top;\n",
       "    }\n",
       "\n",
       "    .dataframe thead th {\n",
       "        text-align: right;\n",
       "    }\n",
       "</style>\n",
       "<table border=\"1\" class=\"dataframe\">\n",
       "  <thead>\n",
       "    <tr style=\"text-align: right;\">\n",
       "      <th></th>\n",
       "      <th>new_cases</th>\n",
       "      <th>total_cases</th>\n",
       "      <th>new_deaths</th>\n",
       "      <th>total_deaths</th>\n",
       "      <th>new_vaccinations</th>\n",
       "      <th>total_vaccinations</th>\n",
       "    </tr>\n",
       "  </thead>\n",
       "  <tbody>\n",
       "    <tr>\n",
       "      <th>count</th>\n",
       "      <td>153.000000</td>\n",
       "      <td>153.000000</td>\n",
       "      <td>153.000000</td>\n",
       "      <td>153.000000</td>\n",
       "      <td>153.000000</td>\n",
       "      <td>1.530000e+02</td>\n",
       "    </tr>\n",
       "    <tr>\n",
       "      <th>mean</th>\n",
       "      <td>892.333333</td>\n",
       "      <td>177630.352941</td>\n",
       "      <td>1.699346</td>\n",
       "      <td>859.183007</td>\n",
       "      <td>28983.045752</td>\n",
       "      <td>6.966367e+06</td>\n",
       "    </tr>\n",
       "    <tr>\n",
       "      <th>std</th>\n",
       "      <td>783.864583</td>\n",
       "      <td>37126.455526</td>\n",
       "      <td>5.872645</td>\n",
       "      <td>69.060846</td>\n",
       "      <td>32261.844313</td>\n",
       "      <td>1.314795e+06</td>\n",
       "    </tr>\n",
       "    <tr>\n",
       "      <th>min</th>\n",
       "      <td>88.000000</td>\n",
       "      <td>131509.000000</td>\n",
       "      <td>-1.000000</td>\n",
       "      <td>794.000000</td>\n",
       "      <td>14.000000</td>\n",
       "      <td>4.359132e+06</td>\n",
       "    </tr>\n",
       "    <tr>\n",
       "      <th>25%</th>\n",
       "      <td>322.000000</td>\n",
       "      <td>140836.000000</td>\n",
       "      <td>0.000000</td>\n",
       "      <td>804.000000</td>\n",
       "      <td>4178.000000</td>\n",
       "      <td>5.702725e+06</td>\n",
       "    </tr>\n",
       "    <tr>\n",
       "      <th>50%</th>\n",
       "      <td>641.000000</td>\n",
       "      <td>179450.000000</td>\n",
       "      <td>0.000000</td>\n",
       "      <td>841.000000</td>\n",
       "      <td>16032.000000</td>\n",
       "      <td>7.568199e+06</td>\n",
       "    </tr>\n",
       "    <tr>\n",
       "      <th>75%</th>\n",
       "      <td>1219.000000</td>\n",
       "      <td>200093.000000</td>\n",
       "      <td>1.000000</td>\n",
       "      <td>894.000000</td>\n",
       "      <td>41184.000000</td>\n",
       "      <td>8.013170e+06</td>\n",
       "    </tr>\n",
       "    <tr>\n",
       "      <th>max</th>\n",
       "      <td>4575.000000</td>\n",
       "      <td>267843.000000</td>\n",
       "      <td>46.000000</td>\n",
       "      <td>1054.000000</td>\n",
       "      <td>138716.000000</td>\n",
       "      <td>8.682607e+06</td>\n",
       "    </tr>\n",
       "  </tbody>\n",
       "</table>\n",
       "</div>"
      ],
      "text/plain": [
       "         new_cases    total_cases  new_deaths  total_deaths  new_vaccinations  \\\n",
       "count   153.000000     153.000000  153.000000    153.000000        153.000000   \n",
       "mean    892.333333  177630.352941    1.699346    859.183007      28983.045752   \n",
       "std     783.864583   37126.455526    5.872645     69.060846      32261.844313   \n",
       "min      88.000000  131509.000000   -1.000000    794.000000         14.000000   \n",
       "25%     322.000000  140836.000000    0.000000    804.000000       4178.000000   \n",
       "50%     641.000000  179450.000000    0.000000    841.000000      16032.000000   \n",
       "75%    1219.000000  200093.000000    1.000000    894.000000      41184.000000   \n",
       "max    4575.000000  267843.000000   46.000000   1054.000000     138716.000000   \n",
       "\n",
       "       total_vaccinations  \n",
       "count        1.530000e+02  \n",
       "mean         6.966367e+06  \n",
       "std          1.314795e+06  \n",
       "min          4.359132e+06  \n",
       "25%          5.702725e+06  \n",
       "50%          7.568199e+06  \n",
       "75%          8.013170e+06  \n",
       "max          8.682607e+06  "
      ]
     },
     "execution_count": 159,
     "metadata": {},
     "output_type": "execute_result"
    }
   ],
   "source": [
    "df1.describe()"
   ]
  },
  {
   "cell_type": "code",
   "execution_count": 160,
   "id": "b5ba420b",
   "metadata": {},
   "outputs": [
    {
     "data": {
      "text/plain": [
       "<AxesSubplot:>"
      ]
     },
     "execution_count": 160,
     "metadata": {},
     "output_type": "execute_result"
    },
    {
     "data": {
      "image/png": "[encoded data removed]",
      "text/plain": [
       "<Figure size 432x288 with 1 Axes>"
      ]
     },
     "metadata": {
      "needs_background": "light"
     },
     "output_type": "display_data"
    }
   ],
   "source": [
    "df1['new_deaths'].hist()"
   ]
  },
  {
   "cell_type": "code",
   "execution_count": 161,
   "id": "a75d285c",
   "metadata": {},
   "outputs": [
    {
     "data": {
      "text/plain": [
       "<AxesSubplot:>"
      ]
     },
     "execution_count": 161,
     "metadata": {},
     "output_type": "execute_result"
    },
    {
     "data": {
      "image/png": "[encoded data removed]",
      "text/plain": [
       "<Figure size 432x288 with 1 Axes>"
      ]
     },
     "metadata": {
      "needs_background": "light"
     },
     "output_type": "display_data"
    }
   ],
   "source": [
    "df1['new_cases'].hist()"
   ]
  },
  {
   "cell_type": "code",
   "execution_count": 162,
   "id": "dd954f3c",
   "metadata": {},
   "outputs": [
    {
     "data": {
      "text/plain": [
       "<AxesSubplot:>"
      ]
     },
     "execution_count": 162,
     "metadata": {},
     "output_type": "execute_result"
    },
    {
     "data": {
      "image/png": "[encoded data removed]",
      "text/plain": [
       "<Figure size 432x288 with 1 Axes>"
      ]
     },
     "metadata": {
      "needs_background": "light"
     },
     "output_type": "display_data"
    }
   ],
   "source": [
    "df1['new_vaccinations'].hist()"
   ]
  },
  {
   "cell_type": "code",
   "execution_count": 163,
   "id": "d9b6bec3",
   "metadata": {},
   "outputs": [
    {
     "data": {
      "image/png": "[encoded data removed]",
      "text/plain": [
       "<Figure size 864x432 with 1 Axes>"
      ]
     },
     "metadata": {
      "needs_background": "light"
     },
     "output_type": "display_data"
    }
   ],
   "source": [
    "ax=df1['total_cases'].plot(figsize=(12,6) , legend=True)\n",
    "ax.set_ylabel(\"Количество случаев заражения, млн.\") \n",
    "title = 'Месячные уровни CO₂ '"
   ]
  },
  {
   "cell_type": "code",
   "execution_count": 164,
   "id": "f5787cbc",
   "metadata": {},
   "outputs": [
    {
     "data": {
      "text/plain": [
       "Text(0, 0.5, 'Количество летальных случаев')"
      ]
     },
     "execution_count": 164,
     "metadata": {},
     "output_type": "execute_result"
    },
    {
     "data": {
      "image/png": "[encoded data removed]",
      "text/plain": [
       "<Figure size 864x432 with 1 Axes>"
      ]
     },
     "metadata": {
      "needs_background": "light"
     },
     "output_type": "display_data"
    }
   ],
   "source": [
    "ax1=df1['total_deaths'].plot(figsize=(12,6) , legend=True, color='red')\n",
    "ax1.set_ylabel(\"Количество летальных случаев\") "
   ]
  },
  {
   "cell_type": "code",
   "execution_count": 166,
   "id": "a61824ad",
   "metadata": {},
   "outputs": [
    {
     "data": {
      "text/plain": [
       "Text(0, 0.5, 'Количество вакцинированных человек, млн./100')"
      ]
     },
     "execution_count": 166,
     "metadata": {},
     "output_type": "execute_result"
    },
    {
     "data": {
      "image/png": "[encoded data removed]",
      "text/plain": [
       "<Figure size 864x432 with 1 Axes>"
      ]
     },
     "metadata": {
      "needs_background": "light"
     },
     "output_type": "display_data"
    }
   ],
   "source": [
    "ax2=df1['total_vaccinations'].plot(figsize=(12,6) , legend=True)\n",
    "ax2.set_ylabel(\"Количество вакцинированных человек, млн./100\") "
   ]
  },
  {
   "cell_type": "code",
   "execution_count": 167,
   "id": "ad4a8ab2",
   "metadata": {},
   "outputs": [
    {
     "data": {
      "text/plain": [
       "Text(0, 0.5, 'Количество случаев заражения')"
      ]
     },
     "execution_count": 167,
     "metadata": {},
     "output_type": "execute_result"
    },
    {
     "data": {
      "image/png": "[encoded data removed]",
      "text/plain": [
       "<Figure size 864x432 with 1 Axes>"
      ]
     },
     "metadata": {
      "needs_background": "light"
     },
     "output_type": "display_data"
    }
   ],
   "source": [
    "ax3=df1['new_cases'].plot(figsize=(12,6) , legend=True)\n",
    "ax3.set_ylabel(\"Количество случаев заражения\") "
   ]
  },
  {
   "cell_type": "code",
   "execution_count": 169,
   "id": "89333bd8",
   "metadata": {},
   "outputs": [
    {
     "data": {
      "text/plain": [
       "Text(0, 0.5, 'Количество летальных случаев')"
      ]
     },
     "execution_count": 169,
     "metadata": {},
     "output_type": "execute_result"
    },
    {
     "data": {
      "image/png": "[encoded data removed]",
      "text/plain": [
       "<Figure size 864x432 with 1 Axes>"
      ]
     },
     "metadata": {
      "needs_background": "light"
     },
     "output_type": "display_data"
    }
   ],
   "source": [
    "ax4=df1['new_deaths'].plot(figsize=(12,6) , legend=True, color='red')\n",
    "ax4.set_ylabel(\"Количество летальных случаев\") "
   ]
  },
  {
   "cell_type": "code",
   "execution_count": 171,
   "id": "5851139e",
   "metadata": {},
   "outputs": [
    {
     "data": {
      "text/plain": [
       "Text(0, 0.5, 'Количество вакцинированных')"
      ]
     },
     "execution_count": 171,
     "metadata": {},
     "output_type": "execute_result"
    },
    {
     "data": {
      "image/png": "[encoded data removed]",
      "text/plain": [
       "<Figure size 864x432 with 1 Axes>"
      ]
     },
     "metadata": {
      "needs_background": "light"
     },
     "output_type": "display_data"
    }
   ],
   "source": [
    "ax5=df1['new_vaccinations'].plot(figsize=(12,6) , legend=True)\n",
    "ax5.set_ylabel(\"Количество вакцинированных\") "
   ]
  },
  {
   "cell_type": "code",
   "execution_count": 172,
   "id": "3b855939",
   "metadata": {},
   "outputs": [
    {
     "data": {
      "text/plain": [
       "<AxesSubplot:xlabel='new_vaccinations', ylabel='new_deaths'>"
      ]
     },
     "execution_count": 172,
     "metadata": {},
     "output_type": "execute_result"
    },
    {
     "data": {
      "image/png": "[encoded data removed]",
      "text/plain": [
       "<Figure size 864x216 with 1 Axes>"
      ]
     },
     "metadata": {
      "needs_background": "light"
     },
     "output_type": "display_data"
    }
   ],
   "source": [
    "df1.plot.scatter(x='new_vaccinations', y='new_deaths', alpha=1, figsize=(12,3), lw=1,color='b' )"
   ]
  },
  {
   "cell_type": "code",
   "execution_count": 173,
   "id": "f3d1e0b7",
   "metadata": {},
   "outputs": [
    {
     "data": {
      "text/plain": [
       "<AxesSubplot:xlabel='new_vaccinations', ylabel='new_cases'>"
      ]
     },
     "execution_count": 173,
     "metadata": {},
     "output_type": "execute_result"
    },
    {
     "data": {
      "image/png": "[encoded data removed]",
      "text/plain": [
       "<Figure size 864x216 with 1 Axes>"
      ]
     },
     "metadata": {
      "needs_background": "light"
     },
     "output_type": "display_data"
    }
   ],
   "source": [
    "df1.plot.scatter(x='new_vaccinations', y='new_cases', alpha=1, figsize=(12,3), lw=1,color='b' )"
   ]
  },
  {
   "cell_type": "code",
   "execution_count": 175,
   "id": "650bf9fd",
   "metadata": {},
   "outputs": [
    {
     "data": {
      "text/plain": [
       "<AxesSubplot:xlabel='new_cases', ylabel='new_deaths'>"
      ]
     },
     "execution_count": 175,
     "metadata": {},
     "output_type": "execute_result"
    },
    {
     "data": {
      "image/png": "[encoded data removed]",
      "text/plain": [
       "<Figure size 864x216 with 1 Axes>"
      ]
     },
     "metadata": {
      "needs_background": "light"
     },
     "output_type": "display_data"
    }
   ],
   "source": [
    "df1.plot.scatter(x='new_cases', y='new_deaths', alpha=1, figsize=(12,3), lw=1,color='b' )"
   ]
  },
  {
   "cell_type": "code",
   "execution_count": null,
   "id": "f95a63bc",
   "metadata": {},
   "outputs": [],
   "source": []
  }
 ],
 "metadata": {
  "kernelspec": {
   "display_name": "Python 3",
   "language": "python",
   "name": "python3"
  },
  "language_info": {
   "codemirror_mode": {
    "name": "ipython",
    "version": 3
   },
   "file_extension": ".py",
   "mimetype": "text/x-python",
   "name": "python",
   "nbconvert_exporter": "python",
   "pygments_lexer": "ipython3",
   "version": "3.8.8"
  }
 },
 "nbformat": 4,
 "nbformat_minor": 5
}
